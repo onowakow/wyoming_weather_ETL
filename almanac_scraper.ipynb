{
 "cells": [
  {
   "cell_type": "markdown",
   "id": "8cdc2a3c",
   "metadata": {},
   "source": [
    "# Almanac Scraper"
   ]
  },
  {
   "cell_type": "markdown",
   "id": "511aa657",
   "metadata": {},
   "source": [
    "## Necessary Inputs"
   ]
  },
  {
   "cell_type": "code",
   "execution_count": 11,
   "id": "b082c2ca",
   "metadata": {},
   "outputs": [],
   "source": [
    "import pandas as pd\n",
    "import datetime\n",
    "import requests\n",
    "from bs4 import BeautifulSoup"
   ]
  },
  {
   "cell_type": "markdown",
   "id": "8a1570e8",
   "metadata": {},
   "source": [
    "## Create List of Dates to Investigate"
   ]
  },
  {
   "cell_type": "code",
   "execution_count": 80,
   "id": "e86d82d7",
   "metadata": {},
   "outputs": [
    {
     "data": {
      "text/plain": [
       "[datetime.date(2023, 1, 1),\n",
       " datetime.date(2023, 1, 2),\n",
       " datetime.date(2023, 1, 3),\n",
       " datetime.date(2023, 1, 4),\n",
       " datetime.date(2023, 1, 5),\n",
       " datetime.date(2023, 1, 6),\n",
       " datetime.date(2023, 1, 7)]"
      ]
     },
     "execution_count": 80,
     "metadata": {},
     "output_type": "execute_result"
    }
   ],
   "source": [
    "# More info at: https://www.geeksforgeeks.org/python-iterating-through-a-range-of-dates/\n",
    "start_date = datetime.date(2023, 1, 1)\n",
    "end_date = datetime.date(2023, 1, 7)\n",
    "\n",
    "delta = datetime.timedelta(days=1)\n",
    "\n",
    "target_dates = []\n",
    "\n",
    "while(start_date <= end_date):\n",
    "    target_dates.append(start_date)\n",
    "    start_date += delta\n",
    "target_dates"
   ]
  },
  {
   "cell_type": "markdown",
   "id": "3be728f6",
   "metadata": {},
   "source": [
    "## Function For Scraping Almanac Page"
   ]
  },
  {
   "cell_type": "code",
   "execution_count": 105,
   "id": "ca0d0584",
   "metadata": {},
   "outputs": [
    {
     "name": "stdout",
     "output_type": "stream",
     "text": [
      "Done.\n"
     ]
    }
   ],
   "source": [
    "headers = {\n",
    "    \"User-Agent\": 'Mozilla/5.0 (X11; Linux x86_64) AppleWebKit/537.36 (KHTML, like Gecko) Chrome/108.0.0.0 Safari/537.36'\n",
    "}\n",
    "\n",
    "def build_almanac_url(date):\n",
    "    # Almanac URL Example 'https://www.almanac.com/weather/history/WY/Laramie/2023-01-17'\n",
    "    base_url = 'https://www.almanac.com/weather/history/WY/Laramie/'\n",
    "    format_date = date.strftime('%Y-%m-%d')\n",
    "    return base_url + format_date\n",
    "    \n",
    "weather_data = {\n",
    "    'Temperature Minimum': [],\n",
    "    'Temperature Mean': [],\n",
    "    'Temperature Max': [],\n",
    "    'Precipitation Mean': [],\n",
    "    'Wind Speed Mean': [],\n",
    "    'Date': [],\n",
    "}\n",
    "\n",
    "for date in target_dates:\n",
    "    almanac_url = build_almanac_url(date)\n",
    "    almanac_html = requests.get(almanac_url, headers = headers).text\n",
    "    \n",
    "    # For more information on BeautifulSoup, visit the docs: https://www.crummy.com/software/BeautifulSoup/bs4/doc/\n",
    "    soup = BeautifulSoup(almanac_html, 'html.parser')\n",
    "    weather_table = soup.find('table', class_='weatherhistory_results') \n",
    "\n",
    "    rows = weather_table.find_all('tr')\n",
    "    data_rows = weather_table.find_all('tr', class_=lambda x: x != 'weatherhistory_results_section')\n",
    "    \n",
    "    temp_min_row = weather_table.find('tr', class_='temp_mn')\n",
    "    temp_mean_row = weather_table.find('tr', class_='temp')\n",
    "    temp_max_row = weather_table.find('tr', class_='temp_mx')\n",
    "    precipitation_mean_row = weather_table.find('tr', class_='prcp')\n",
    "    wind_speed_mean_row = weather_table.find('tr', class_='wdsp')\n",
    "\n",
    "    temp_min_f = temp_min_row.find('span', class_='value').text\n",
    "    temp_mean_f = temp_mean_row.find('span', class_='value').text\n",
    "    temp_max_f = temp_max_row.find('span', class_='value').text\n",
    "    precipitation_mean_inches = precipitation_mean_row.find('span', class_='value').text\n",
    "    wind_speed_mean_mph = wind_speed_mean_row.find('span', class_='value').text\n",
    "\n",
    "\n",
    "    weather_data['Temperature Minimum'].append(temp_min_f)\n",
    "    weather_data['Temperature Mean'].append(temp_mean_f)\n",
    "    weather_data['Temperature Max'].append(temp_max_f)\n",
    "    weather_data['Precipitation Mean'].append(precipitation_mean_inches)\n",
    "    weather_data['Wind Speed Mean'].append(wind_speed_mean_mph)\n",
    "    weather_data['Date'].append(date.strftime('%Y-%m-%d'))\n",
    "print('Done.')"
   ]
  },
  {
   "cell_type": "code",
   "execution_count": 107,
   "id": "2f4a3e0e",
   "metadata": {},
   "outputs": [
    {
     "data": {
      "text/html": [
       "<div>\n",
       "<style scoped>\n",
       "    .dataframe tbody tr th:only-of-type {\n",
       "        vertical-align: middle;\n",
       "    }\n",
       "\n",
       "    .dataframe tbody tr th {\n",
       "        vertical-align: top;\n",
       "    }\n",
       "\n",
       "    .dataframe thead th {\n",
       "        text-align: right;\n",
       "    }\n",
       "</style>\n",
       "<table border=\"1\" class=\"dataframe\">\n",
       "  <thead>\n",
       "    <tr style=\"text-align: right;\">\n",
       "      <th></th>\n",
       "      <th>Temperature Minimum</th>\n",
       "      <th>Temperature Mean</th>\n",
       "      <th>Temperature Max</th>\n",
       "      <th>Precipitation Mean</th>\n",
       "      <th>Wind Speed Mean</th>\n",
       "      <th>Date</th>\n",
       "    </tr>\n",
       "  </thead>\n",
       "  <tbody>\n",
       "    <tr>\n",
       "      <th>0</th>\n",
       "      <td>25.0</td>\n",
       "      <td>28.7</td>\n",
       "      <td>39.0</td>\n",
       "      <td>0.09</td>\n",
       "      <td>13.35</td>\n",
       "      <td>2023-01-01</td>\n",
       "    </tr>\n",
       "    <tr>\n",
       "      <th>1</th>\n",
       "      <td>19.4</td>\n",
       "      <td>22.5</td>\n",
       "      <td>27.0</td>\n",
       "      <td>0.08</td>\n",
       "      <td>11.28</td>\n",
       "      <td>2023-01-02</td>\n",
       "    </tr>\n",
       "    <tr>\n",
       "      <th>2</th>\n",
       "      <td>7.0</td>\n",
       "      <td>17.4</td>\n",
       "      <td>24.1</td>\n",
       "      <td>0.01</td>\n",
       "      <td>2.99</td>\n",
       "      <td>2023-01-03</td>\n",
       "    </tr>\n",
       "    <tr>\n",
       "      <th>3</th>\n",
       "      <td>7.0</td>\n",
       "      <td>17.7</td>\n",
       "      <td>25.0</td>\n",
       "      <td>0.00</td>\n",
       "      <td>14.04</td>\n",
       "      <td>2023-01-04</td>\n",
       "    </tr>\n",
       "    <tr>\n",
       "      <th>4</th>\n",
       "      <td>10.9</td>\n",
       "      <td>23.8</td>\n",
       "      <td>37.0</td>\n",
       "      <td>0.00</td>\n",
       "      <td>16.57</td>\n",
       "      <td>2023-01-05</td>\n",
       "    </tr>\n",
       "    <tr>\n",
       "      <th>5</th>\n",
       "      <td>12.9</td>\n",
       "      <td>29.7</td>\n",
       "      <td>37.0</td>\n",
       "      <td>0.00</td>\n",
       "      <td>9.21</td>\n",
       "      <td>2023-01-06</td>\n",
       "    </tr>\n",
       "    <tr>\n",
       "      <th>6</th>\n",
       "      <td>17.1</td>\n",
       "      <td>24.5</td>\n",
       "      <td>33.1</td>\n",
       "      <td>0.01</td>\n",
       "      <td>7.13</td>\n",
       "      <td>2023-01-07</td>\n",
       "    </tr>\n",
       "  </tbody>\n",
       "</table>\n",
       "</div>"
      ],
      "text/plain": [
       "  Temperature Minimum Temperature Mean Temperature Max Precipitation Mean  \\\n",
       "0                25.0             28.7            39.0               0.09   \n",
       "1                19.4             22.5            27.0               0.08   \n",
       "2                 7.0             17.4            24.1               0.01   \n",
       "3                 7.0             17.7            25.0               0.00   \n",
       "4                10.9             23.8            37.0               0.00   \n",
       "5                12.9             29.7            37.0               0.00   \n",
       "6                17.1             24.5            33.1               0.01   \n",
       "\n",
       "  Wind Speed Mean        Date  \n",
       "0           13.35  2023-01-01  \n",
       "1           11.28  2023-01-02  \n",
       "2            2.99  2023-01-03  \n",
       "3           14.04  2023-01-04  \n",
       "4           16.57  2023-01-05  \n",
       "5            9.21  2023-01-06  \n",
       "6            7.13  2023-01-07  "
      ]
     },
     "execution_count": 107,
     "metadata": {},
     "output_type": "execute_result"
    }
   ],
   "source": [
    "weather_df = pd.DataFrame(weather_data)\n",
    "weather_df"
   ]
  },
  {
   "cell_type": "code",
   "execution_count": null,
   "id": "87acb125",
   "metadata": {},
   "outputs": [],
   "source": []
  }
 ],
 "metadata": {
  "kernelspec": {
   "display_name": "Python 3 (ipykernel)",
   "language": "python",
   "name": "python3"
  },
  "language_info": {
   "codemirror_mode": {
    "name": "ipython",
    "version": 3
   },
   "file_extension": ".py",
   "mimetype": "text/x-python",
   "name": "python",
   "nbconvert_exporter": "python",
   "pygments_lexer": "ipython3",
   "version": "3.8.10"
  }
 },
 "nbformat": 4,
 "nbformat_minor": 5
}
