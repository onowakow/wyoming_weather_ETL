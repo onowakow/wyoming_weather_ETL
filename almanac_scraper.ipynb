{
 "cells": [
  {
   "cell_type": "markdown",
   "id": "11a7576f",
   "metadata": {},
   "source": [
    "# Almanac Scraper"
   ]
  },
  {
   "cell_type": "markdown",
   "id": "83aabbf9",
   "metadata": {},
   "source": [
    "## Necessary Inputs"
   ]
  },
  {
   "cell_type": "code",
   "execution_count": 11,
   "id": "1db28cd8",
   "metadata": {},
   "outputs": [],
   "source": [
    "import pandas as pd\n",
    "import datetime\n",
    "import requests\n",
    "from bs4 import BeautifulSoup"
   ]
  },
  {
   "cell_type": "markdown",
   "id": "4524c061",
   "metadata": {},
   "source": [
    "## Create List of Dates to Investigate"
   ]
  },
  {
   "cell_type": "code",
   "execution_count": 10,
   "id": "ff09c893",
   "metadata": {},
   "outputs": [
    {
     "data": {
      "text/plain": [
       "<PandasArray>\n",
       "[datetime.date(2022, 1, 15), datetime.date(2022, 1, 16),\n",
       " datetime.date(2022, 1, 17), datetime.date(2022, 1, 18),\n",
       " datetime.date(2022, 1, 19), datetime.date(2022, 1, 20),\n",
       " datetime.date(2022, 1, 21), datetime.date(2022, 1, 22),\n",
       " datetime.date(2022, 1, 23), datetime.date(2022, 1, 24),\n",
       " ...\n",
       "  datetime.date(2023, 1, 5),  datetime.date(2023, 1, 6),\n",
       "  datetime.date(2023, 1, 7),  datetime.date(2023, 1, 8),\n",
       "  datetime.date(2023, 1, 9), datetime.date(2023, 1, 10),\n",
       " datetime.date(2023, 1, 11), datetime.date(2023, 1, 12),\n",
       " datetime.date(2023, 1, 13), datetime.date(2023, 1, 14)]\n",
       "Length: 365, dtype: object"
      ]
     },
     "execution_count": 10,
     "metadata": {},
     "output_type": "execute_result"
    }
   ],
   "source": [
    "# More info at: https://www.geeksforgeeks.org/python-iterating-through-a-range-of-dates/\n",
    "start_date = datetime.date(2022, 1, 15)\n",
    "end_date = datetime.date(2023, 1, 14)\n",
    "\n",
    "delta = datetime.timedelta(days=1)\n",
    "\n",
    "target_dates = []\n",
    "\n",
    "while(start_date <= end_date):\n",
    "    target_dates.append(start_date)\n",
    "    start_date += delta"
   ]
  },
  {
   "cell_type": "markdown",
   "id": "3806f6ec",
   "metadata": {},
   "source": [
    "## Function For Scraping Almanac Page"
   ]
  },
  {
   "cell_type": "code",
   "execution_count": 27,
   "id": "7f472ca6",
   "metadata": {},
   "outputs": [
    {
     "data": {
      "text/plain": [
       "<table class=\"weatherhistory_results\"><tr class=\"weatherhistory_results_section\"><th colspan=\"2\"><h2>Temperature</h2></th></tr><tr class=\"weatherhistory_results_datavalue temp_mn\"><th><h3>Minimum Temperature</h3></th><td><p><span class=\"value\">19.9</span> <span class=\"units\">°F</span></p></td></tr><tr class=\"weatherhistory_results_datavalue temp\"><th><h3>Mean Temperature</h3></th><td><p><span class=\"value\">23.4</span> <span class=\"units\">°F</span></p></td></tr><tr class=\"weatherhistory_results_datavalue temp_mx\"><th><h3>Maximum Temperature</h3></th><td><p><span class=\"value\">30.9</span> <span class=\"units\">°F</span></p></td></tr><tr class=\"weatherhistory_results_section\"><th colspan=\"2\"><h2>Pressure and Dew Point</h2></th></tr><tr class=\"weatherhistory_results_datavalue slp\"><th><h3>Mean Sea Level Pressure</h3></th><td><p><span class=\"value\">29.64</span> <span class=\"units\">IN</span></p></td></tr><tr class=\"weatherhistory_results_datavalue dewp\"><th><h3>Mean Dew Point</h3></th><td><p><span class=\"value\">16.5</span> <span class=\"units\">°F</span></p></td></tr><tr class=\"weatherhistory_results_section\"><th colspan=\"2\"><h2>Precipitation</h2></th></tr><tr class=\"weatherhistory_results_datavalue prcp\"><th><h3>Total Precipitation</h3><p class=\"explanation\">Rain and/or melted snow reported during the day.</p></th><td><p><span class=\"value\">0.00</span> <span class=\"units\">IN</span></p></td></tr><tr class=\"weatherhistory_results_datavalue visib\"><th><h3>Visibility</h3></th><td><p><span class=\"value\">10.0</span> <span class=\"units\">MI</span></p></td></tr><tr class=\"weatherhistory_results_datavalue sndp\"><th><h3>Snow Depth</h3><p class=\"explanation\">Last report for the day if reported more than once.</p></th><td><p class=\"nullvalue\">No data.</p></td></tr><tr class=\"weatherhistory_results_section\"><th colspan=\"2\"><h2>Wind Speed and Gusts</h2></th></tr><tr class=\"weatherhistory_results_datavalue wdsp\"><th><h3>Mean Wind Speed</h3></th><td><p><span class=\"value\">5.41</span> <span class=\"units\">MPH</span></p></td></tr><tr class=\"weatherhistory_results_datavalue mxspd\"><th><h3>Maximum Sustained Wind Speed</h3></th><td><p><span class=\"value\">12.77</span> <span class=\"units\">MPH</span></p></td></tr><tr class=\"weatherhistory_results_datavalue gust\"><th><h3>Maximum Wind Gust</h3></th><td><p class=\"nullvalue\">No data.</p></td></tr></table>"
      ]
     },
     "execution_count": 27,
     "metadata": {},
     "output_type": "execute_result"
    }
   ],
   "source": [
    "headers = {\n",
    "    \"User-Agent\": 'Mozilla/5.0 (X11; Linux x86_64) AppleWebKit/537.36 (KHTML, like Gecko) Chrome/108.0.0.0 Safari/537.36'\n",
    "}\n",
    "\n",
    "almanac_url = 'https://www.almanac.com/weather/history/WY/Laramie/2023-01-17'\n",
    "almanac_html = requests.get(almanac_url, headers = headers).text\n",
    "\n",
    "# For more information on BeautifulSoup, visit the docs: https://www.crummy.com/software/BeautifulSoup/bs4/doc/\n",
    "soup = BeautifulSoup(almanac_html, 'html.parser')\n",
    "\n",
    "weather_table = soup.find('table', class_='weatherhistory_results')\n",
    "weather_table"
   ]
  },
  {
   "cell_type": "code",
   "execution_count": null,
   "id": "6c37a43a",
   "metadata": {},
   "outputs": [],
   "source": []
  }
 ],
 "metadata": {
  "kernelspec": {
   "display_name": "Python 3 (ipykernel)",
   "language": "python",
   "name": "python3"
  },
  "language_info": {
   "codemirror_mode": {
    "name": "ipython",
    "version": 3
   },
   "file_extension": ".py",
   "mimetype": "text/x-python",
   "name": "python",
   "nbconvert_exporter": "python",
   "pygments_lexer": "ipython3",
   "version": "3.8.10"
  }
 },
 "nbformat": 4,
 "nbformat_minor": 5
}
